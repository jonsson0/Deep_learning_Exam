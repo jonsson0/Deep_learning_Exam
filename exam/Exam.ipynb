{
 "cells": [
  {
   "cell_type": "markdown",
   "metadata": {
    "id": "mHSYUjA_iX-N"
   },
   "source": [
    "This is a companion notebook for the book [Deep Learning with Python, Second Edition](https://www.manning.com/books/deep-learning-with-python-second-edition?a_aid=keras&a_bid=76564dff). For readability, it only contains runnable code blocks and section titles, and omits everything else in the book: text paragraphs, figures, and pseudocode.\n",
    "\n",
    "**If you want to be able to follow what's going on, I recommend reading the notebook side by side with your copy of the book.**\n",
    "\n",
    "This notebook was generated for TensorFlow 2.6."
   ]
  },
  {
   "cell_type": "markdown",
   "metadata": {
    "id": "mm7Tu42RiX-V"
   },
   "source": [
    "## Neural style transfer"
   ]
  },
  {
   "cell_type": "markdown",
   "metadata": {
    "id": "rk4WRI6yiX-W"
   },
   "source": [
    "### The content loss"
   ]
  },
  {
   "cell_type": "markdown",
   "metadata": {
    "id": "TLbM6tGTiX-Y"
   },
   "source": [
    "### The style loss"
   ]
  },
  {
   "cell_type": "markdown",
   "metadata": {
    "id": "tygMA9PLiX-Z"
   },
   "source": [
    "### Neural style transfer in Keras"
   ]
  },
  {
   "cell_type": "markdown",
   "metadata": {
    "id": "rATLVV72iX-a"
   },
   "source": [
    "**Getting the style and content images**"
   ]
  },
  {
   "cell_type": "code",
   "execution_count": 1,
   "metadata": {
    "id": "OLTKowVqiX-g"
   },
   "outputs": [],
   "source": [
    "\n",
    "from tensorflow import keras\n",
    "\n",
    "base_image_path = keras.utils.get_file(\n",
    "    \"sf.jpg\", origin=\"https://img-datasets.s3.amazonaws.com/sf.jpg\")\n",
    "style_reference_image_path1 = keras.utils.get_file(\n",
    "    \"starry_night.jpg\", origin=\"https://img-datasets.s3.amazonaws.com/starry_night.jpg\")\n",
    "\n",
    "original_width, original_height = keras.utils.load_img(base_image_path).size\n",
    "img_height = 400\n",
    "img_width = round(original_width * img_height / original_height)"
   ]
  },
  {
   "cell_type": "code",
   "execution_count": 12,
   "metadata": {
    "id": "hlfkTBAHaqds"
   },
   "outputs": [],
   "source": [
    "import cv2\n",
    "import os\n",
    "\n",
    "def reset_folder(folder_path):\n",
    "    if os.path.exists(folder_path):\n",
    "        # Delete the folder and its contents\n",
    "        for item in os.listdir(folder_path):\n",
    "            item_path = os.path.join(folder_path, item)\n",
    "            if os.path.isdir(item_path):\n",
    "                # Recursively delete subfolders and files\n",
    "                reset_folder(item_path)\n",
    "            else:\n",
    "                os.remove(item_path)\n",
    "        os.rmdir(folder_path)\n",
    "\n",
    "    # Recreate the folder\n",
    "    os.makedirs(folder_path)\n",
    "\n",
    "def video_to_frames(mp4_path, frame_folder):\n",
    "    reset_folder(frame_folder)\n",
    "    vidcap = cv2.VideoCapture(mp4_path)\n",
    "    success, image = vidcap.read()\n",
    "    count = 0\n",
    "\n",
    "    while success:\n",
    "        frame_path = os.path.join(frame_folder, f\"frame{count:04d}.jpg\")  # Save frame with zero-padded numbers\n",
    "        cv2.imwrite(frame_path, image)\n",
    "        success, image = vidcap.read()\n",
    "        print('Read a new frame: ', success)\n",
    "        count += 1\n",
    "\n",
    "    # Sort the frames in the folder\n",
    "    frame_files = sorted([f for f in os.listdir(frame_folder) if f.endswith('.jpg')])\n",
    "\n",
    "    for i, frame_file in enumerate(frame_files):\n",
    "        new_frame_path = os.path.join(frame_folder, f\"frame{i:04d}.jpg\")  # Rename the frames\n",
    "        print(\"renaming: %s to: %s\" % (frame_file, new_frame_path))\n",
    "        os.rename(os.path.join(frame_folder, frame_file), new_frame_path)\n",
    "        \n",
    "\n",
    "\n",
    "def frames_to_video(frame_folder, output_video_path, frame_rate):\n",
    "    frame_files = [f for f in os.listdir(frame_folder) if f.endswith('.jpg')]\n",
    "    frame_files.sort(key=lambda x: int(x[5:-4]))  # Sort the frames in the correct order\n",
    "\n",
    "    frame = cv2.imread(os.path.join(frame_folder, frame_files[0]))\n",
    "    height, width, layers = frame.shape\n",
    "\n",
    "    fourcc = cv2.VideoWriter_fourcc(*'mp4v')\n",
    "    out = cv2.VideoWriter(output_video_path, fourcc, frame_rate, (width, height))\n",
    "\n",
    "    for frame_file in frame_files:\n",
    "        print(f\"putting: {frame_file} into the video\")\n",
    "        frame_path = os.path.join(frame_folder, frame_file)\n",
    "        frame = cv2.imread(frame_path)\n",
    "        out.write(frame)\n",
    "\n",
    "    out.release()"
   ]
  },
  {
   "cell_type": "markdown",
   "metadata": {
    "id": "koYibqo7iX-s"
   },
   "source": [
    "**Auxiliary functions**"
   ]
  },
  {
   "cell_type": "code",
   "execution_count": 3,
   "metadata": {
    "id": "O6jlGH3LiX-x"
   },
   "outputs": [],
   "source": [
    "import numpy as np\n",
    "\n",
    "def preprocess_image(image_path):\n",
    "    img = keras.utils.load_img(\n",
    "        image_path, target_size=(img_height, img_width))\n",
    "    img = keras.utils.img_to_array(img)\n",
    "    img = np.expand_dims(img, axis=0)\n",
    "    img = keras.applications.vgg19.preprocess_input(img)\n",
    "    return img\n",
    "\n",
    "def deprocess_image(img):\n",
    "    img = img.reshape((img_height, img_width, 3))\n",
    "    img[:, :, 0] += 103.939\n",
    "    img[:, :, 1] += 116.779\n",
    "    img[:, :, 2] += 123.68\n",
    "    img = img[:, :, ::-1]\n",
    "    img = np.clip(img, 0, 255).astype(\"uint8\")\n",
    "    return img"
   ]
  },
  {
   "cell_type": "markdown",
   "metadata": {
    "id": "itYu0JvciX-y"
   },
   "source": [
    "**Using a pretrained VGG19 model to create a feature extractor**"
   ]
  },
  {
   "cell_type": "code",
   "execution_count": 4,
   "metadata": {
    "id": "o7IDtw17iX-4"
   },
   "outputs": [],
   "source": [
    "model = keras.applications.vgg19.VGG19(weights=\"imagenet\", include_top=False)\n",
    "\n",
    "outputs_dict = dict([(layer.name, layer.output) for layer in model.layers])\n",
    "feature_extractor = keras.Model(inputs=model.inputs, outputs=outputs_dict)"
   ]
  },
  {
   "cell_type": "markdown",
   "metadata": {
    "id": "79G7QMSniX-6"
   },
   "source": [
    "**Content loss**"
   ]
  },
  {
   "cell_type": "code",
   "execution_count": 5,
   "metadata": {
    "id": "bxJT7ZhdiX-7"
   },
   "outputs": [],
   "source": [
    "def content_loss(base_img, combination_img):\n",
    "    return tf.reduce_sum(tf.square(combination_img - base_img))"
   ]
  },
  {
   "cell_type": "markdown",
   "metadata": {
    "id": "hQCasIXUiX-8"
   },
   "source": [
    "**Style loss**"
   ]
  },
  {
   "cell_type": "code",
   "execution_count": 6,
   "metadata": {
    "id": "I038VotyiX-9"
   },
   "outputs": [],
   "source": [
    "def gram_matrix(x):\n",
    "    x = tf.transpose(x, (2, 0, 1))\n",
    "    features = tf.reshape(x, (tf.shape(x)[0], -1))\n",
    "    gram = tf.matmul(features, tf.transpose(features))\n",
    "    return gram\n",
    "\n",
    "def style_loss(style_img, combination_img):\n",
    "    S = gram_matrix(style_img)\n",
    "    C = gram_matrix(combination_img)\n",
    "    channels = 3\n",
    "    size = img_height * img_width\n",
    "    return tf.reduce_sum(tf.square(S - C)) / (4.0 * (channels ** 2) * (size ** 2))"
   ]
  },
  {
   "cell_type": "markdown",
   "metadata": {
    "id": "2mlFFZTIiX--"
   },
   "source": [
    "**Total variation loss**"
   ]
  },
  {
   "cell_type": "code",
   "execution_count": 7,
   "metadata": {
    "id": "qzZoqxmFiX--"
   },
   "outputs": [],
   "source": [
    "def total_variation_loss(x):\n",
    "    a = tf.square(\n",
    "        x[:, : img_height - 1, : img_width - 1, :] - x[:, 1:, : img_width - 1, :]\n",
    "    )\n",
    "    b = tf.square(\n",
    "        x[:, : img_height - 1, : img_width - 1, :] - x[:, : img_height - 1, 1:, :]\n",
    "    )\n",
    "    return tf.reduce_sum(tf.pow(a + b, 1.25))"
   ]
  },
  {
   "cell_type": "markdown",
   "metadata": {
    "id": "1uUKTsKeiX_P"
   },
   "source": [
    "**Defining the final loss that you'll minimize**"
   ]
  },
  {
   "cell_type": "code",
   "execution_count": 8,
   "metadata": {
    "id": "R8NLIaVwiX_R"
   },
   "outputs": [],
   "source": [
    "style_layer_names = [\n",
    "    \"block1_conv1\",\n",
    "    \"block2_conv1\",\n",
    "    \"block3_conv1\",\n",
    "    \"block4_conv1\",\n",
    "    \"block5_conv1\",\n",
    "]\n",
    "content_layer_name = \"block5_conv2\"\n",
    "total_variation_weight = 1e-6\n",
    "style_weight = 1e-6\n",
    "content_weight = 2.5e-8\n",
    "\n",
    "def compute_loss(combination_image, base_image, style_reference_image):\n",
    "    input_tensor = tf.concat(\n",
    "        [base_image, style_reference_image, combination_image], axis=0\n",
    "    )\n",
    "    features = feature_extractor(input_tensor)\n",
    "    loss = tf.zeros(shape=())\n",
    "    layer_features = features[content_layer_name]\n",
    "    base_image_features = layer_features[0, :, :, :]\n",
    "    combination_features = layer_features[2, :, :, :]\n",
    "    loss = loss + content_weight * content_loss(\n",
    "        base_image_features, combination_features\n",
    "    )\n",
    "    for layer_name in style_layer_names:\n",
    "        layer_features = features[layer_name]\n",
    "        style_reference_features = layer_features[1, :, :, :]\n",
    "        combination_features = layer_features[2, :, :, :]\n",
    "        style_loss_value = style_loss(\n",
    "          style_reference_features, combination_features)\n",
    "        loss += (style_weight / len(style_layer_names)) * style_loss_value\n",
    "\n",
    "    loss += total_variation_weight * total_variation_loss(combination_image)\n",
    "    return loss"
   ]
  },
  {
   "cell_type": "markdown",
   "metadata": {
    "id": "mvW9_itziX_T"
   },
   "source": [
    "**Setting up the gradient-descent process**"
   ]
  },
  {
   "cell_type": "code",
   "execution_count": 9,
   "metadata": {
    "id": "gkB8itP1iX_Y"
   },
   "outputs": [],
   "source": [
    "import tensorflow as tf\n",
    "import keras as keras\n",
    "import os\n",
    "from keras.optimizers import SGD\n",
    "# from google.colab import files  # Import the files module\n",
    "\n",
    "# Define a custom loss function that computes the total variation loss\n",
    "@tf.function\n",
    "def compute_loss_and_grads(combination_image, base_image, style_reference_image):\n",
    "    with tf.GradientTape() as tape:\n",
    "        loss = compute_loss(combination_image, base_image, style_reference_image)\n",
    "    grads = tape.gradient(loss, combination_image)\n",
    "    return loss, grads\n",
    "\n",
    "optimizer = tf.keras.optimizers.legacy.SGD(learning_rate=0.5)\n",
    "\n",
    "def process_frames(original_frames_folder, processed_frames_folder):\n",
    "    # Specify the directory containing your images\n",
    "    reset_folder(processed_frames_folder)\n",
    "\n",
    "    # List all files in the directory\n",
    "    file_list = os.listdir(original_frames_folder)\n",
    "\n",
    "    # Filter for image files (e.g., JPEG or PNG)\n",
    "    file_list.sort()\n",
    "\n",
    "    for i, frame in enumerate(file_list[:5]):\n",
    "        print(frame)\n",
    "        base_image = preprocess_image(os.path.join(original_frames_folder, frame))\n",
    "        style_reference_image = preprocess_image(style_reference_image_path1)\n",
    "        combination_image = tf.Variable(preprocess_image(os.path.join(original_frames_folder, frame)))\n",
    "        iterations = 3\n",
    "        for j in range(1, iterations + 1):\n",
    "            loss, grads = compute_loss_and_grads(\n",
    "                combination_image, base_image, style_reference_image\n",
    "            )\n",
    "            optimizer.apply_gradients([(grads, combination_image)])\n",
    "            if j % 1 == 0:\n",
    "                print(f\"Iteration {j}: loss={loss:.2f}\")\n",
    "                img = deprocess_image(combination_image.numpy())\n",
    "                fname = os.path.join(processed_frames_folder, f\"ProcessedFrame-{i+1:04d}.png\")\n",
    "                cv2.imwrite(fname, img)  # Save the processed frame with a formatted filename\n",
    "                print(f\"Saving {fname} to {processed_frames_folder}\")\n"
   ]
  },
  {
   "cell_type": "code",
   "execution_count": 10,
   "metadata": {
    "id": "3J1PJrHZqA7h"
   },
   "outputs": [],
   "source": [
    "import os\n",
    "import cv2\n",
    "\n",
    "def frames_to_video(frame_folder, output_video_path, frame_rate):\n",
    "    frame_files = [f for f in os.listdir(frame_folder) if f.endswith('.png')]\n",
    "    frame_files.sort(key=lambda x: int(x.split('-')[-1][:-4]))  # Sort the frames based on the numeric part\n",
    "\n",
    "    frame = cv2.imread(os.path.join(frame_folder, frame_files[0]))\n",
    "    height, width, layers = frame.shape\n",
    "\n",
    "    fourcc = cv2.VideoWriter_fourcc(*'mp4v')\n",
    "    out = cv2.VideoWriter(output_video_path, fourcc, frame_rate, (width, height))\n",
    "\n",
    "    for frame_file in frame_files:\n",
    "        frame_path = os.path.join(frame_folder, frame_file)\n",
    "        frame = cv2.imread(frame_path)\n",
    "        out.write(frame)\n",
    "\n",
    "    out.release()\n",
    "\n",
    "# # Example usage:\n",
    "# frame_folder = '/content/ProcessedFrames'\n",
    "# output_video_path = '/content/output.mp4'\n",
    "# frame_rate = 2\n",
    "# frames_to_video(frame_folder, output_video_path, frame_rate)\n"
   ]
  },
  {
   "cell_type": "code",
   "execution_count": null,
   "metadata": {
    "colab": {
     "base_uri": "https://localhost:8080/"
    },
    "id": "XYHzH211qFgz",
    "outputId": "524b6f6c-23fc-4ab0-a53a-3dc2078cff73",
    "scrolled": false
   },
   "outputs": [
    {
     "name": "stdout",
     "output_type": "stream",
     "text": [
      "Read a new frame:  True\n",
      "Read a new frame:  True\n",
      "Read a new frame:  True\n",
      "Read a new frame:  True\n",
      "Read a new frame:  True\n",
      "Read a new frame:  True\n",
      "Read a new frame:  True\n",
      "Read a new frame:  True\n",
      "Read a new frame:  True\n",
      "Read a new frame:  True\n",
      "Read a new frame:  True\n",
      "Read a new frame:  True\n",
      "Read a new frame:  True\n",
      "Read a new frame:  True\n",
      "Read a new frame:  True\n",
      "Read a new frame:  True\n",
      "Read a new frame:  True\n",
      "Read a new frame:  True\n",
      "Read a new frame:  True\n",
      "Read a new frame:  True\n",
      "Read a new frame:  True\n",
      "Read a new frame:  True\n",
      "Read a new frame:  True\n",
      "Read a new frame:  True\n",
      "Read a new frame:  True\n",
      "Read a new frame:  True\n",
      "Read a new frame:  True\n",
      "Read a new frame:  True\n",
      "Read a new frame:  True\n",
      "Read a new frame:  True\n",
      "Read a new frame:  True\n",
      "Read a new frame:  True\n",
      "Read a new frame:  True\n",
      "Read a new frame:  True\n",
      "Read a new frame:  True\n",
      "Read a new frame:  True\n",
      "Read a new frame:  True\n",
      "Read a new frame:  True\n",
      "Read a new frame:  True\n",
      "Read a new frame:  True\n",
      "Read a new frame:  True\n",
      "Read a new frame:  True\n",
      "Read a new frame:  True\n",
      "Read a new frame:  True\n",
      "Read a new frame:  True\n",
      "Read a new frame:  True\n",
      "Read a new frame:  True\n",
      "Read a new frame:  True\n",
      "Read a new frame:  True\n",
      "Read a new frame:  True\n",
      "Read a new frame:  True\n",
      "Read a new frame:  True\n",
      "Read a new frame:  True\n",
      "Read a new frame:  True\n",
      "Read a new frame:  True\n",
      "Read a new frame:  True\n",
      "Read a new frame:  True\n",
      "Read a new frame:  True\n",
      "Read a new frame:  True\n",
      "Read a new frame:  True\n",
      "Read a new frame:  True\n",
      "Read a new frame:  True\n",
      "Read a new frame:  True\n",
      "Read a new frame:  True\n",
      "Read a new frame:  True\n",
      "Read a new frame:  True\n",
      "Read a new frame:  True\n",
      "Read a new frame:  True\n",
      "Read a new frame:  True\n",
      "Read a new frame:  True\n",
      "Read a new frame:  True\n",
      "Read a new frame:  True\n",
      "Read a new frame:  True\n",
      "Read a new frame:  True\n",
      "Read a new frame:  True\n",
      "Read a new frame:  True\n",
      "Read a new frame:  True\n",
      "Read a new frame:  True\n",
      "Read a new frame:  True\n",
      "Read a new frame:  True\n",
      "Read a new frame:  True\n",
      "Read a new frame:  True\n",
      "Read a new frame:  True\n",
      "Read a new frame:  True\n",
      "Read a new frame:  True\n",
      "Read a new frame:  True\n",
      "Read a new frame:  True\n",
      "Read a new frame:  True\n",
      "Read a new frame:  True\n",
      "Read a new frame:  True\n",
      "Read a new frame:  True\n",
      "Read a new frame:  True\n",
      "Read a new frame:  True\n",
      "Read a new frame:  True\n",
      "Read a new frame:  True\n",
      "Read a new frame:  True\n",
      "Read a new frame:  True\n",
      "Read a new frame:  True\n",
      "Read a new frame:  True\n",
      "Read a new frame:  True\n",
      "Read a new frame:  True\n",
      "Read a new frame:  True\n",
      "Read a new frame:  True\n",
      "Read a new frame:  True\n",
      "Read a new frame:  True\n",
      "Read a new frame:  True\n",
      "Read a new frame:  True\n",
      "Read a new frame:  True\n",
      "Read a new frame:  True\n",
      "Read a new frame:  True\n",
      "Read a new frame:  True\n",
      "Read a new frame:  True\n",
      "Read a new frame:  True\n",
      "Read a new frame:  True\n",
      "Read a new frame:  True\n",
      "Read a new frame:  True\n",
      "Read a new frame:  True\n",
      "Read a new frame:  True\n",
      "Read a new frame:  True\n",
      "Read a new frame:  True\n",
      "Read a new frame:  True\n",
      "Read a new frame:  True\n",
      "Read a new frame:  True\n",
      "Read a new frame:  True\n",
      "Read a new frame:  True\n",
      "Read a new frame:  True\n",
      "Read a new frame:  True\n",
      "Read a new frame:  True\n",
      "Read a new frame:  True\n",
      "Read a new frame:  True\n",
      "Read a new frame:  True\n",
      "Read a new frame:  True\n",
      "Read a new frame:  True\n",
      "Read a new frame:  True\n",
      "Read a new frame:  True\n",
      "Read a new frame:  True\n",
      "Read a new frame:  True\n",
      "Read a new frame:  True\n",
      "Read a new frame:  True\n",
      "Read a new frame:  True\n",
      "Read a new frame:  True\n",
      "Read a new frame:  True\n",
      "Read a new frame:  True\n",
      "Read a new frame:  True\n",
      "Read a new frame:  False\n",
      "renaming: frame0000.jpg to: C:\\Users\\madsj\\OneDrive\\Uni\\Deep_Learning\\exam\\Frames\\frame0000.jpg\n",
      "renaming: frame0001.jpg to: C:\\Users\\madsj\\OneDrive\\Uni\\Deep_Learning\\exam\\Frames\\frame0001.jpg\n",
      "renaming: frame0002.jpg to: C:\\Users\\madsj\\OneDrive\\Uni\\Deep_Learning\\exam\\Frames\\frame0002.jpg\n",
      "renaming: frame0003.jpg to: C:\\Users\\madsj\\OneDrive\\Uni\\Deep_Learning\\exam\\Frames\\frame0003.jpg\n",
      "renaming: frame0004.jpg to: C:\\Users\\madsj\\OneDrive\\Uni\\Deep_Learning\\exam\\Frames\\frame0004.jpg\n",
      "renaming: frame0005.jpg to: C:\\Users\\madsj\\OneDrive\\Uni\\Deep_Learning\\exam\\Frames\\frame0005.jpg\n",
      "renaming: frame0006.jpg to: C:\\Users\\madsj\\OneDrive\\Uni\\Deep_Learning\\exam\\Frames\\frame0006.jpg\n",
      "renaming: frame0007.jpg to: C:\\Users\\madsj\\OneDrive\\Uni\\Deep_Learning\\exam\\Frames\\frame0007.jpg\n",
      "renaming: frame0008.jpg to: C:\\Users\\madsj\\OneDrive\\Uni\\Deep_Learning\\exam\\Frames\\frame0008.jpg\n",
      "renaming: frame0009.jpg to: C:\\Users\\madsj\\OneDrive\\Uni\\Deep_Learning\\exam\\Frames\\frame0009.jpg\n",
      "renaming: frame0010.jpg to: C:\\Users\\madsj\\OneDrive\\Uni\\Deep_Learning\\exam\\Frames\\frame0010.jpg\n",
      "renaming: frame0011.jpg to: C:\\Users\\madsj\\OneDrive\\Uni\\Deep_Learning\\exam\\Frames\\frame0011.jpg\n",
      "renaming: frame0012.jpg to: C:\\Users\\madsj\\OneDrive\\Uni\\Deep_Learning\\exam\\Frames\\frame0012.jpg\n",
      "renaming: frame0013.jpg to: C:\\Users\\madsj\\OneDrive\\Uni\\Deep_Learning\\exam\\Frames\\frame0013.jpg\n",
      "renaming: frame0014.jpg to: C:\\Users\\madsj\\OneDrive\\Uni\\Deep_Learning\\exam\\Frames\\frame0014.jpg\n",
      "renaming: frame0015.jpg to: C:\\Users\\madsj\\OneDrive\\Uni\\Deep_Learning\\exam\\Frames\\frame0015.jpg\n",
      "renaming: frame0016.jpg to: C:\\Users\\madsj\\OneDrive\\Uni\\Deep_Learning\\exam\\Frames\\frame0016.jpg\n",
      "renaming: frame0017.jpg to: C:\\Users\\madsj\\OneDrive\\Uni\\Deep_Learning\\exam\\Frames\\frame0017.jpg\n",
      "renaming: frame0018.jpg to: C:\\Users\\madsj\\OneDrive\\Uni\\Deep_Learning\\exam\\Frames\\frame0018.jpg\n",
      "renaming: frame0019.jpg to: C:\\Users\\madsj\\OneDrive\\Uni\\Deep_Learning\\exam\\Frames\\frame0019.jpg\n",
      "renaming: frame0020.jpg to: C:\\Users\\madsj\\OneDrive\\Uni\\Deep_Learning\\exam\\Frames\\frame0020.jpg\n",
      "renaming: frame0021.jpg to: C:\\Users\\madsj\\OneDrive\\Uni\\Deep_Learning\\exam\\Frames\\frame0021.jpg\n",
      "renaming: frame0022.jpg to: C:\\Users\\madsj\\OneDrive\\Uni\\Deep_Learning\\exam\\Frames\\frame0022.jpg\n",
      "renaming: frame0023.jpg to: C:\\Users\\madsj\\OneDrive\\Uni\\Deep_Learning\\exam\\Frames\\frame0023.jpg\n",
      "renaming: frame0024.jpg to: C:\\Users\\madsj\\OneDrive\\Uni\\Deep_Learning\\exam\\Frames\\frame0024.jpg\n",
      "renaming: frame0025.jpg to: C:\\Users\\madsj\\OneDrive\\Uni\\Deep_Learning\\exam\\Frames\\frame0025.jpg\n",
      "renaming: frame0026.jpg to: C:\\Users\\madsj\\OneDrive\\Uni\\Deep_Learning\\exam\\Frames\\frame0026.jpg\n",
      "renaming: frame0027.jpg to: C:\\Users\\madsj\\OneDrive\\Uni\\Deep_Learning\\exam\\Frames\\frame0027.jpg\n",
      "renaming: frame0028.jpg to: C:\\Users\\madsj\\OneDrive\\Uni\\Deep_Learning\\exam\\Frames\\frame0028.jpg\n",
      "renaming: frame0029.jpg to: C:\\Users\\madsj\\OneDrive\\Uni\\Deep_Learning\\exam\\Frames\\frame0029.jpg\n",
      "renaming: frame0030.jpg to: C:\\Users\\madsj\\OneDrive\\Uni\\Deep_Learning\\exam\\Frames\\frame0030.jpg\n",
      "renaming: frame0031.jpg to: C:\\Users\\madsj\\OneDrive\\Uni\\Deep_Learning\\exam\\Frames\\frame0031.jpg\n",
      "renaming: frame0032.jpg to: C:\\Users\\madsj\\OneDrive\\Uni\\Deep_Learning\\exam\\Frames\\frame0032.jpg\n",
      "renaming: frame0033.jpg to: C:\\Users\\madsj\\OneDrive\\Uni\\Deep_Learning\\exam\\Frames\\frame0033.jpg\n",
      "renaming: frame0034.jpg to: C:\\Users\\madsj\\OneDrive\\Uni\\Deep_Learning\\exam\\Frames\\frame0034.jpg\n",
      "renaming: frame0035.jpg to: C:\\Users\\madsj\\OneDrive\\Uni\\Deep_Learning\\exam\\Frames\\frame0035.jpg\n",
      "renaming: frame0036.jpg to: C:\\Users\\madsj\\OneDrive\\Uni\\Deep_Learning\\exam\\Frames\\frame0036.jpg\n",
      "renaming: frame0037.jpg to: C:\\Users\\madsj\\OneDrive\\Uni\\Deep_Learning\\exam\\Frames\\frame0037.jpg\n",
      "renaming: frame0038.jpg to: C:\\Users\\madsj\\OneDrive\\Uni\\Deep_Learning\\exam\\Frames\\frame0038.jpg\n",
      "renaming: frame0039.jpg to: C:\\Users\\madsj\\OneDrive\\Uni\\Deep_Learning\\exam\\Frames\\frame0039.jpg\n",
      "renaming: frame0040.jpg to: C:\\Users\\madsj\\OneDrive\\Uni\\Deep_Learning\\exam\\Frames\\frame0040.jpg\n",
      "renaming: frame0041.jpg to: C:\\Users\\madsj\\OneDrive\\Uni\\Deep_Learning\\exam\\Frames\\frame0041.jpg\n",
      "renaming: frame0042.jpg to: C:\\Users\\madsj\\OneDrive\\Uni\\Deep_Learning\\exam\\Frames\\frame0042.jpg\n",
      "renaming: frame0043.jpg to: C:\\Users\\madsj\\OneDrive\\Uni\\Deep_Learning\\exam\\Frames\\frame0043.jpg\n",
      "renaming: frame0044.jpg to: C:\\Users\\madsj\\OneDrive\\Uni\\Deep_Learning\\exam\\Frames\\frame0044.jpg\n",
      "renaming: frame0045.jpg to: C:\\Users\\madsj\\OneDrive\\Uni\\Deep_Learning\\exam\\Frames\\frame0045.jpg\n",
      "renaming: frame0046.jpg to: C:\\Users\\madsj\\OneDrive\\Uni\\Deep_Learning\\exam\\Frames\\frame0046.jpg\n",
      "renaming: frame0047.jpg to: C:\\Users\\madsj\\OneDrive\\Uni\\Deep_Learning\\exam\\Frames\\frame0047.jpg\n",
      "renaming: frame0048.jpg to: C:\\Users\\madsj\\OneDrive\\Uni\\Deep_Learning\\exam\\Frames\\frame0048.jpg\n",
      "renaming: frame0049.jpg to: C:\\Users\\madsj\\OneDrive\\Uni\\Deep_Learning\\exam\\Frames\\frame0049.jpg\n",
      "renaming: frame0050.jpg to: C:\\Users\\madsj\\OneDrive\\Uni\\Deep_Learning\\exam\\Frames\\frame0050.jpg\n",
      "renaming: frame0051.jpg to: C:\\Users\\madsj\\OneDrive\\Uni\\Deep_Learning\\exam\\Frames\\frame0051.jpg\n",
      "renaming: frame0052.jpg to: C:\\Users\\madsj\\OneDrive\\Uni\\Deep_Learning\\exam\\Frames\\frame0052.jpg\n",
      "renaming: frame0053.jpg to: C:\\Users\\madsj\\OneDrive\\Uni\\Deep_Learning\\exam\\Frames\\frame0053.jpg\n",
      "renaming: frame0054.jpg to: C:\\Users\\madsj\\OneDrive\\Uni\\Deep_Learning\\exam\\Frames\\frame0054.jpg\n",
      "renaming: frame0055.jpg to: C:\\Users\\madsj\\OneDrive\\Uni\\Deep_Learning\\exam\\Frames\\frame0055.jpg\n",
      "renaming: frame0056.jpg to: C:\\Users\\madsj\\OneDrive\\Uni\\Deep_Learning\\exam\\Frames\\frame0056.jpg\n",
      "renaming: frame0057.jpg to: C:\\Users\\madsj\\OneDrive\\Uni\\Deep_Learning\\exam\\Frames\\frame0057.jpg\n",
      "renaming: frame0058.jpg to: C:\\Users\\madsj\\OneDrive\\Uni\\Deep_Learning\\exam\\Frames\\frame0058.jpg\n",
      "renaming: frame0059.jpg to: C:\\Users\\madsj\\OneDrive\\Uni\\Deep_Learning\\exam\\Frames\\frame0059.jpg\n",
      "renaming: frame0060.jpg to: C:\\Users\\madsj\\OneDrive\\Uni\\Deep_Learning\\exam\\Frames\\frame0060.jpg\n",
      "renaming: frame0061.jpg to: C:\\Users\\madsj\\OneDrive\\Uni\\Deep_Learning\\exam\\Frames\\frame0061.jpg\n",
      "renaming: frame0062.jpg to: C:\\Users\\madsj\\OneDrive\\Uni\\Deep_Learning\\exam\\Frames\\frame0062.jpg\n",
      "renaming: frame0063.jpg to: C:\\Users\\madsj\\OneDrive\\Uni\\Deep_Learning\\exam\\Frames\\frame0063.jpg\n",
      "renaming: frame0064.jpg to: C:\\Users\\madsj\\OneDrive\\Uni\\Deep_Learning\\exam\\Frames\\frame0064.jpg\n",
      "renaming: frame0065.jpg to: C:\\Users\\madsj\\OneDrive\\Uni\\Deep_Learning\\exam\\Frames\\frame0065.jpg\n",
      "renaming: frame0066.jpg to: C:\\Users\\madsj\\OneDrive\\Uni\\Deep_Learning\\exam\\Frames\\frame0066.jpg\n",
      "renaming: frame0067.jpg to: C:\\Users\\madsj\\OneDrive\\Uni\\Deep_Learning\\exam\\Frames\\frame0067.jpg\n",
      "renaming: frame0068.jpg to: C:\\Users\\madsj\\OneDrive\\Uni\\Deep_Learning\\exam\\Frames\\frame0068.jpg\n",
      "renaming: frame0069.jpg to: C:\\Users\\madsj\\OneDrive\\Uni\\Deep_Learning\\exam\\Frames\\frame0069.jpg\n",
      "renaming: frame0070.jpg to: C:\\Users\\madsj\\OneDrive\\Uni\\Deep_Learning\\exam\\Frames\\frame0070.jpg\n",
      "renaming: frame0071.jpg to: C:\\Users\\madsj\\OneDrive\\Uni\\Deep_Learning\\exam\\Frames\\frame0071.jpg\n",
      "renaming: frame0072.jpg to: C:\\Users\\madsj\\OneDrive\\Uni\\Deep_Learning\\exam\\Frames\\frame0072.jpg\n",
      "renaming: frame0073.jpg to: C:\\Users\\madsj\\OneDrive\\Uni\\Deep_Learning\\exam\\Frames\\frame0073.jpg\n",
      "renaming: frame0074.jpg to: C:\\Users\\madsj\\OneDrive\\Uni\\Deep_Learning\\exam\\Frames\\frame0074.jpg\n",
      "renaming: frame0075.jpg to: C:\\Users\\madsj\\OneDrive\\Uni\\Deep_Learning\\exam\\Frames\\frame0075.jpg\n",
      "renaming: frame0076.jpg to: C:\\Users\\madsj\\OneDrive\\Uni\\Deep_Learning\\exam\\Frames\\frame0076.jpg\n",
      "renaming: frame0077.jpg to: C:\\Users\\madsj\\OneDrive\\Uni\\Deep_Learning\\exam\\Frames\\frame0077.jpg\n",
      "renaming: frame0078.jpg to: C:\\Users\\madsj\\OneDrive\\Uni\\Deep_Learning\\exam\\Frames\\frame0078.jpg\n",
      "renaming: frame0079.jpg to: C:\\Users\\madsj\\OneDrive\\Uni\\Deep_Learning\\exam\\Frames\\frame0079.jpg\n",
      "renaming: frame0080.jpg to: C:\\Users\\madsj\\OneDrive\\Uni\\Deep_Learning\\exam\\Frames\\frame0080.jpg\n",
      "renaming: frame0081.jpg to: C:\\Users\\madsj\\OneDrive\\Uni\\Deep_Learning\\exam\\Frames\\frame0081.jpg\n",
      "renaming: frame0082.jpg to: C:\\Users\\madsj\\OneDrive\\Uni\\Deep_Learning\\exam\\Frames\\frame0082.jpg\n",
      "renaming: frame0083.jpg to: C:\\Users\\madsj\\OneDrive\\Uni\\Deep_Learning\\exam\\Frames\\frame0083.jpg\n",
      "renaming: frame0084.jpg to: C:\\Users\\madsj\\OneDrive\\Uni\\Deep_Learning\\exam\\Frames\\frame0084.jpg\n",
      "renaming: frame0085.jpg to: C:\\Users\\madsj\\OneDrive\\Uni\\Deep_Learning\\exam\\Frames\\frame0085.jpg\n",
      "renaming: frame0086.jpg to: C:\\Users\\madsj\\OneDrive\\Uni\\Deep_Learning\\exam\\Frames\\frame0086.jpg\n",
      "renaming: frame0087.jpg to: C:\\Users\\madsj\\OneDrive\\Uni\\Deep_Learning\\exam\\Frames\\frame0087.jpg\n",
      "renaming: frame0088.jpg to: C:\\Users\\madsj\\OneDrive\\Uni\\Deep_Learning\\exam\\Frames\\frame0088.jpg\n",
      "renaming: frame0089.jpg to: C:\\Users\\madsj\\OneDrive\\Uni\\Deep_Learning\\exam\\Frames\\frame0089.jpg\n",
      "renaming: frame0090.jpg to: C:\\Users\\madsj\\OneDrive\\Uni\\Deep_Learning\\exam\\Frames\\frame0090.jpg\n",
      "renaming: frame0091.jpg to: C:\\Users\\madsj\\OneDrive\\Uni\\Deep_Learning\\exam\\Frames\\frame0091.jpg\n",
      "renaming: frame0092.jpg to: C:\\Users\\madsj\\OneDrive\\Uni\\Deep_Learning\\exam\\Frames\\frame0092.jpg\n",
      "renaming: frame0093.jpg to: C:\\Users\\madsj\\OneDrive\\Uni\\Deep_Learning\\exam\\Frames\\frame0093.jpg\n",
      "renaming: frame0094.jpg to: C:\\Users\\madsj\\OneDrive\\Uni\\Deep_Learning\\exam\\Frames\\frame0094.jpg\n",
      "renaming: frame0095.jpg to: C:\\Users\\madsj\\OneDrive\\Uni\\Deep_Learning\\exam\\Frames\\frame0095.jpg\n",
      "renaming: frame0096.jpg to: C:\\Users\\madsj\\OneDrive\\Uni\\Deep_Learning\\exam\\Frames\\frame0096.jpg\n",
      "renaming: frame0097.jpg to: C:\\Users\\madsj\\OneDrive\\Uni\\Deep_Learning\\exam\\Frames\\frame0097.jpg\n",
      "renaming: frame0098.jpg to: C:\\Users\\madsj\\OneDrive\\Uni\\Deep_Learning\\exam\\Frames\\frame0098.jpg\n",
      "renaming: frame0099.jpg to: C:\\Users\\madsj\\OneDrive\\Uni\\Deep_Learning\\exam\\Frames\\frame0099.jpg\n",
      "renaming: frame0100.jpg to: C:\\Users\\madsj\\OneDrive\\Uni\\Deep_Learning\\exam\\Frames\\frame0100.jpg\n",
      "renaming: frame0101.jpg to: C:\\Users\\madsj\\OneDrive\\Uni\\Deep_Learning\\exam\\Frames\\frame0101.jpg\n",
      "renaming: frame0102.jpg to: C:\\Users\\madsj\\OneDrive\\Uni\\Deep_Learning\\exam\\Frames\\frame0102.jpg\n",
      "renaming: frame0103.jpg to: C:\\Users\\madsj\\OneDrive\\Uni\\Deep_Learning\\exam\\Frames\\frame0103.jpg\n",
      "renaming: frame0104.jpg to: C:\\Users\\madsj\\OneDrive\\Uni\\Deep_Learning\\exam\\Frames\\frame0104.jpg\n",
      "renaming: frame0105.jpg to: C:\\Users\\madsj\\OneDrive\\Uni\\Deep_Learning\\exam\\Frames\\frame0105.jpg\n",
      "renaming: frame0106.jpg to: C:\\Users\\madsj\\OneDrive\\Uni\\Deep_Learning\\exam\\Frames\\frame0106.jpg\n",
      "renaming: frame0107.jpg to: C:\\Users\\madsj\\OneDrive\\Uni\\Deep_Learning\\exam\\Frames\\frame0107.jpg\n",
      "renaming: frame0108.jpg to: C:\\Users\\madsj\\OneDrive\\Uni\\Deep_Learning\\exam\\Frames\\frame0108.jpg\n",
      "renaming: frame0109.jpg to: C:\\Users\\madsj\\OneDrive\\Uni\\Deep_Learning\\exam\\Frames\\frame0109.jpg\n",
      "renaming: frame0110.jpg to: C:\\Users\\madsj\\OneDrive\\Uni\\Deep_Learning\\exam\\Frames\\frame0110.jpg\n",
      "renaming: frame0111.jpg to: C:\\Users\\madsj\\OneDrive\\Uni\\Deep_Learning\\exam\\Frames\\frame0111.jpg\n",
      "renaming: frame0112.jpg to: C:\\Users\\madsj\\OneDrive\\Uni\\Deep_Learning\\exam\\Frames\\frame0112.jpg\n",
      "renaming: frame0113.jpg to: C:\\Users\\madsj\\OneDrive\\Uni\\Deep_Learning\\exam\\Frames\\frame0113.jpg\n",
      "renaming: frame0114.jpg to: C:\\Users\\madsj\\OneDrive\\Uni\\Deep_Learning\\exam\\Frames\\frame0114.jpg\n",
      "renaming: frame0115.jpg to: C:\\Users\\madsj\\OneDrive\\Uni\\Deep_Learning\\exam\\Frames\\frame0115.jpg\n",
      "renaming: frame0116.jpg to: C:\\Users\\madsj\\OneDrive\\Uni\\Deep_Learning\\exam\\Frames\\frame0116.jpg\n",
      "renaming: frame0117.jpg to: C:\\Users\\madsj\\OneDrive\\Uni\\Deep_Learning\\exam\\Frames\\frame0117.jpg\n",
      "renaming: frame0118.jpg to: C:\\Users\\madsj\\OneDrive\\Uni\\Deep_Learning\\exam\\Frames\\frame0118.jpg\n",
      "renaming: frame0119.jpg to: C:\\Users\\madsj\\OneDrive\\Uni\\Deep_Learning\\exam\\Frames\\frame0119.jpg\n",
      "renaming: frame0120.jpg to: C:\\Users\\madsj\\OneDrive\\Uni\\Deep_Learning\\exam\\Frames\\frame0120.jpg\n",
      "renaming: frame0121.jpg to: C:\\Users\\madsj\\OneDrive\\Uni\\Deep_Learning\\exam\\Frames\\frame0121.jpg\n",
      "renaming: frame0122.jpg to: C:\\Users\\madsj\\OneDrive\\Uni\\Deep_Learning\\exam\\Frames\\frame0122.jpg\n",
      "renaming: frame0123.jpg to: C:\\Users\\madsj\\OneDrive\\Uni\\Deep_Learning\\exam\\Frames\\frame0123.jpg\n",
      "renaming: frame0124.jpg to: C:\\Users\\madsj\\OneDrive\\Uni\\Deep_Learning\\exam\\Frames\\frame0124.jpg\n",
      "renaming: frame0125.jpg to: C:\\Users\\madsj\\OneDrive\\Uni\\Deep_Learning\\exam\\Frames\\frame0125.jpg\n",
      "renaming: frame0126.jpg to: C:\\Users\\madsj\\OneDrive\\Uni\\Deep_Learning\\exam\\Frames\\frame0126.jpg\n",
      "renaming: frame0127.jpg to: C:\\Users\\madsj\\OneDrive\\Uni\\Deep_Learning\\exam\\Frames\\frame0127.jpg\n",
      "renaming: frame0128.jpg to: C:\\Users\\madsj\\OneDrive\\Uni\\Deep_Learning\\exam\\Frames\\frame0128.jpg\n",
      "renaming: frame0129.jpg to: C:\\Users\\madsj\\OneDrive\\Uni\\Deep_Learning\\exam\\Frames\\frame0129.jpg\n",
      "renaming: frame0130.jpg to: C:\\Users\\madsj\\OneDrive\\Uni\\Deep_Learning\\exam\\Frames\\frame0130.jpg\n",
      "renaming: frame0131.jpg to: C:\\Users\\madsj\\OneDrive\\Uni\\Deep_Learning\\exam\\Frames\\frame0131.jpg\n",
      "renaming: frame0132.jpg to: C:\\Users\\madsj\\OneDrive\\Uni\\Deep_Learning\\exam\\Frames\\frame0132.jpg\n",
      "renaming: frame0133.jpg to: C:\\Users\\madsj\\OneDrive\\Uni\\Deep_Learning\\exam\\Frames\\frame0133.jpg\n",
      "renaming: frame0134.jpg to: C:\\Users\\madsj\\OneDrive\\Uni\\Deep_Learning\\exam\\Frames\\frame0134.jpg\n",
      "renaming: frame0135.jpg to: C:\\Users\\madsj\\OneDrive\\Uni\\Deep_Learning\\exam\\Frames\\frame0135.jpg\n",
      "renaming: frame0136.jpg to: C:\\Users\\madsj\\OneDrive\\Uni\\Deep_Learning\\exam\\Frames\\frame0136.jpg\n",
      "renaming: frame0137.jpg to: C:\\Users\\madsj\\OneDrive\\Uni\\Deep_Learning\\exam\\Frames\\frame0137.jpg\n",
      "renaming: frame0138.jpg to: C:\\Users\\madsj\\OneDrive\\Uni\\Deep_Learning\\exam\\Frames\\frame0138.jpg\n",
      "renaming: frame0139.jpg to: C:\\Users\\madsj\\OneDrive\\Uni\\Deep_Learning\\exam\\Frames\\frame0139.jpg\n",
      "renaming: frame0140.jpg to: C:\\Users\\madsj\\OneDrive\\Uni\\Deep_Learning\\exam\\Frames\\frame0140.jpg\n",
      "renaming: frame0141.jpg to: C:\\Users\\madsj\\OneDrive\\Uni\\Deep_Learning\\exam\\Frames\\frame0141.jpg\n",
      "renaming: frame0142.jpg to: C:\\Users\\madsj\\OneDrive\\Uni\\Deep_Learning\\exam\\Frames\\frame0142.jpg\n",
      "renaming: frame0143.jpg to: C:\\Users\\madsj\\OneDrive\\Uni\\Deep_Learning\\exam\\Frames\\frame0143.jpg\n",
      "renaming: frame0144.jpg to: C:\\Users\\madsj\\OneDrive\\Uni\\Deep_Learning\\exam\\Frames\\frame0144.jpg\n",
      "frame0000.jpg\n"
     ]
    },
    {
     "name": "stdout",
     "output_type": "stream",
     "text": [
      "Iteration 1: loss=174611.02\n",
      "Saving C:\\Users\\madsj\\OneDrive\\Uni\\Deep_Learning\\exam\\Processed_Frames\\ProcessedFrame-0001.png to C:\\Users\\madsj\\OneDrive\\Uni\\Deep_Learning\\exam\\Processed_Frames\n",
      "Iteration 2: loss=174362.59\n",
      "Saving C:\\Users\\madsj\\OneDrive\\Uni\\Deep_Learning\\exam\\Processed_Frames\\ProcessedFrame-0001.png to C:\\Users\\madsj\\OneDrive\\Uni\\Deep_Learning\\exam\\Processed_Frames\n",
      "Iteration 3: loss=174105.25\n",
      "Saving C:\\Users\\madsj\\OneDrive\\Uni\\Deep_Learning\\exam\\Processed_Frames\\ProcessedFrame-0001.png to C:\\Users\\madsj\\OneDrive\\Uni\\Deep_Learning\\exam\\Processed_Frames\n",
      "frame0001.jpg\n",
      "Iteration 1: loss=174559.89\n",
      "Saving C:\\Users\\madsj\\OneDrive\\Uni\\Deep_Learning\\exam\\Processed_Frames\\ProcessedFrame-0002.png to C:\\Users\\madsj\\OneDrive\\Uni\\Deep_Learning\\exam\\Processed_Frames\n",
      "Iteration 2: loss=174311.86\n",
      "Saving C:\\Users\\madsj\\OneDrive\\Uni\\Deep_Learning\\exam\\Processed_Frames\\ProcessedFrame-0002.png to C:\\Users\\madsj\\OneDrive\\Uni\\Deep_Learning\\exam\\Processed_Frames\n",
      "Iteration 3: loss=174055.08\n",
      "Saving C:\\Users\\madsj\\OneDrive\\Uni\\Deep_Learning\\exam\\Processed_Frames\\ProcessedFrame-0002.png to C:\\Users\\madsj\\OneDrive\\Uni\\Deep_Learning\\exam\\Processed_Frames\n",
      "frame0002.jpg\n",
      "Iteration 1: loss=174806.45\n",
      "Saving C:\\Users\\madsj\\OneDrive\\Uni\\Deep_Learning\\exam\\Processed_Frames\\ProcessedFrame-0003.png to C:\\Users\\madsj\\OneDrive\\Uni\\Deep_Learning\\exam\\Processed_Frames\n",
      "Iteration 2: loss=174557.31\n",
      "Saving C:\\Users\\madsj\\OneDrive\\Uni\\Deep_Learning\\exam\\Processed_Frames\\ProcessedFrame-0003.png to C:\\Users\\madsj\\OneDrive\\Uni\\Deep_Learning\\exam\\Processed_Frames\n",
      "Iteration 3: loss=174299.30\n",
      "Saving C:\\Users\\madsj\\OneDrive\\Uni\\Deep_Learning\\exam\\Processed_Frames\\ProcessedFrame-0003.png to C:\\Users\\madsj\\OneDrive\\Uni\\Deep_Learning\\exam\\Processed_Frames\n",
      "frame0003.jpg\n",
      "Iteration 1: loss=174825.72\n",
      "Saving C:\\Users\\madsj\\OneDrive\\Uni\\Deep_Learning\\exam\\Processed_Frames\\ProcessedFrame-0004.png to C:\\Users\\madsj\\OneDrive\\Uni\\Deep_Learning\\exam\\Processed_Frames\n",
      "Iteration 2: loss=174576.53\n",
      "Saving C:\\Users\\madsj\\OneDrive\\Uni\\Deep_Learning\\exam\\Processed_Frames\\ProcessedFrame-0004.png to C:\\Users\\madsj\\OneDrive\\Uni\\Deep_Learning\\exam\\Processed_Frames\n",
      "Iteration 3: loss=174318.39\n",
      "Saving C:\\Users\\madsj\\OneDrive\\Uni\\Deep_Learning\\exam\\Processed_Frames\\ProcessedFrame-0004.png to C:\\Users\\madsj\\OneDrive\\Uni\\Deep_Learning\\exam\\Processed_Frames\n",
      "frame0004.jpg\n",
      "Iteration 1: loss=174771.50\n",
      "Saving C:\\Users\\madsj\\OneDrive\\Uni\\Deep_Learning\\exam\\Processed_Frames\\ProcessedFrame-0005.png to C:\\Users\\madsj\\OneDrive\\Uni\\Deep_Learning\\exam\\Processed_Frames\n"
     ]
    }
   ],
   "source": [
    "#MAIN\n",
    "\n",
    "\n",
    "#Extracting frames\n",
    "input_video= r\"C:\\Users\\madsj\\OneDrive\\Skrivebord\\SampleVideo_720x480_1mb.mp4\"\n",
    "original_frame_folder = r\"C:\\Users\\madsj\\OneDrive\\Uni\\Deep_Learning\\exam\\Frames\"\n",
    "video_to_frames(input_video, original_frame_folder)\n",
    "\n",
    "#processing frames\n",
    "processed_frame_folder = r\"C:\\Users\\madsj\\OneDrive\\Uni\\Deep_Learning\\exam\\Processed_Frames\"\n",
    "process_frames(original_frame_folder, processed_frame_folder)\n",
    "\n",
    "#rebuilding mp4\n",
    "output_video_path = r\"C:\\Users\\madsj\\OneDrive\\Uni\\Deep_Learning\\exam\\Output_vid\\output.mp4\"\n",
    "frame_rate = 2\n",
    "frames_to_video(processed_frame_folder, output_video_path, frame_rate)\n"
   ]
  },
  {
   "cell_type": "code",
   "execution_count": null,
   "metadata": {
    "id": "SyxoJuv966xj"
   },
   "outputs": [],
   "source": []
  },
  {
   "cell_type": "code",
   "execution_count": null,
   "metadata": {
    "id": "YfeV5SV43l3r"
   },
   "outputs": [],
   "source": []
  },
  {
   "cell_type": "markdown",
   "metadata": {
    "id": "t438HS8IiX_Z"
   },
   "source": [
    "### Wrapping up"
   ]
  },
  {
   "cell_type": "code",
   "execution_count": null,
   "metadata": {
    "id": "CbupZZtE2Od9"
   },
   "outputs": [],
   "source": []
  }
 ],
 "metadata": {
  "colab": {
   "provenance": []
  },
  "kernelspec": {
   "display_name": "Python 3 (ipykernel)",
   "language": "python",
   "name": "python3"
  },
  "language_info": {
   "codemirror_mode": {
    "name": "ipython",
    "version": 3
   },
   "file_extension": ".py",
   "mimetype": "text/x-python",
   "name": "python",
   "nbconvert_exporter": "python",
   "pygments_lexer": "ipython3",
   "version": "3.9.13"
  }
 },
 "nbformat": 4,
 "nbformat_minor": 1
}
