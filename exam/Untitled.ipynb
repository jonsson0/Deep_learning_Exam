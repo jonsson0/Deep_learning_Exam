{
 "cells": [
  {
   "cell_type": "markdown",
   "id": "d12bfb3d",
   "metadata": {},
   "source": [
    "This is a companion notebook for the book [Deep Learning with Python, Second Edition](https://www.manning.com/books/deep-learning-with-python-second-edition?a_aid=keras&a_bid=76564dff). For readability, it only contains runnable code blocks and section titles, and omits everything else in the book: text paragraphs, figures, and pseudocode.\n",
    "\n",
    "**If you want to be able to follow what's going on, I recommend reading the notebook side by side with your copy of the book.**\n",
    "\n",
    "This notebook was generated for TensorFlow 2.6."
   ]
  },
  {
   "cell_type": "code",
   "execution_count": null,
   "id": "5c6a5cf9",
   "metadata": {},
   "outputs": [],
   "source": []
  },
  {
   "cell_type": "code",
   "execution_count": null,
   "id": "642fd774",
   "metadata": {},
   "outputs": [],
   "source": []
  },
  {
   "cell_type": "code",
   "execution_count": null,
   "id": "5bdd2b7c",
   "metadata": {},
   "outputs": [],
   "source": []
  },
  {
   "cell_type": "code",
   "execution_count": null,
   "id": "e0999b4d",
   "metadata": {},
   "outputs": [],
   "source": []
  },
  {
   "cell_type": "code",
   "execution_count": 1,
   "id": "3181e583",
   "metadata": {},
   "outputs": [],
   "source": [
    "\n",
    "from tensorflow import keras\n",
    "\n",
    "base_image_path = keras.utils.get_file(\n",
    "    \"sf.jpg\", origin=\"https://img-datasets.s3.amazonaws.com/sf.jpg\")\n",
    "style_reference_image_path1 = keras.utils.get_file(\n",
    "    \"starry_night.jpg\", origin=\"https://img-datasets.s3.amazonaws.com/starry_night.jpg\")\n",
    "\n",
    "original_width, original_height = keras.utils.load_img(base_image_path).size\n",
    "img_height = 400\n",
    "img_width = round(original_width * img_height / original_height)"
   ]
  },
  {
   "cell_type": "code",
   "execution_count": 2,
   "id": "58d11995",
   "metadata": {},
   "outputs": [],
   "source": [
    "import cv2\n",
    "import os\n",
    "\n",
    "def reset_folder(folder_path):\n",
    "    if os.path.exists(folder_path):\n",
    "        # Delete the folder and its contents\n",
    "        for item in os.listdir(folder_path):\n",
    "            item_path = os.path.join(folder_path, item)\n",
    "            if os.path.isdir(item_path):\n",
    "                # Recursively delete subfolders and files\n",
    "                reset_folder(item_path)\n",
    "            else:\n",
    "                os.remove(item_path)\n",
    "        os.rmdir(folder_path)\n",
    "\n",
    "    # Recreate the folder\n",
    "    os.makedirs(folder_path)\n",
    "\n",
    "def video_to_frames(mp4_path, frame_folder):\n",
    "    reset_folder(frame_folder)\n",
    "    vidcap = cv2.VideoCapture(mp4_path)\n",
    "    success, image = vidcap.read()\n",
    "    count = 0\n",
    "\n",
    "    while success:\n",
    "        frame_path = os.path.join(frame_folder, f\"frame{count:04d}.jpg\")  # Save frame with zero-padded numbers\n",
    "        cv2.imwrite(frame_path, image)\n",
    "        success, image = vidcap.read()\n",
    "        print('Read a new frame: ', success)\n",
    "        count += 1\n",
    "\n",
    "    # Sort the frames in the folder\n",
    "    frame_files = sorted([f for f in os.listdir(frame_folder) if f.endswith('.jpg')])\n",
    "\n",
    "    for i, frame_file in enumerate(frame_files):\n",
    "        new_frame_path = os.path.join(frame_folder, f\"frame{i:04d}.jpg\")  # Rename the frames\n",
    "        os.rename(os.path.join(frame_folder, frame_file), new_frame_path)\n",
    "\n",
    "\n",
    "def frames_to_video(frame_folder, output_video_path, frame_rate):\n",
    "    frame_files = [f for f in os.listdir(frame_folder) if f.endswith('.jpg')]\n",
    "    frame_files.sort(key=lambda x: int(x[5:-4]))  # Sort the frames in the correct order\n",
    "\n",
    "    frame = cv2.imread(os.path.join(frame_folder, frame_files[0]))\n",
    "    height, width, layers = frame.shape\n",
    "\n",
    "    fourcc = cv2.VideoWriter_fourcc(*'mp4v')\n",
    "    out = cv2.VideoWriter(output_video_path, fourcc, frame_rate, (width, height))\n",
    "\n",
    "    for frame_file in frame_files:\n",
    "        frame_path = os.path.join(frame_folder, frame_file)\n",
    "        frame = cv2.imread(frame_path)\n",
    "        out.write(frame)\n",
    "\n",
    "    out.release()\n",
    "\n"
   ]
  },
  {
   "cell_type": "code",
   "execution_count": null,
   "id": "84152069",
   "metadata": {},
   "outputs": [],
   "source": []
  }
 ],
 "metadata": {
  "kernelspec": {
   "display_name": "Python 3 (ipykernel)",
   "language": "python",
   "name": "python3"
  },
  "language_info": {
   "codemirror_mode": {
    "name": "ipython",
    "version": 3
   },
   "file_extension": ".py",
   "mimetype": "text/x-python",
   "name": "python",
   "nbconvert_exporter": "python",
   "pygments_lexer": "ipython3",
   "version": "3.9.13"
  }
 },
 "nbformat": 4,
 "nbformat_minor": 5
}
